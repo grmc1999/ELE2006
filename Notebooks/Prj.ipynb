{
 "cells": [
  {
   "cell_type": "code",
   "execution_count": 4,
   "metadata": {},
   "outputs": [
    {
     "name": "stdout",
     "output_type": "stream",
     "text": [
      "Data-Guillermo\t\t\t\t MTDA-ITA\r\n",
      "Data-Guillermo-20240916T235926Z-003.zip  Notebooks\r\n",
      "Data-Guillermo-20240916T235926Z-004.zip\r\n"
     ]
    }
   ],
   "source": [
    "!ls /workdir"
   ]
  },
  {
   "cell_type": "code",
   "execution_count": 9,
   "metadata": {},
   "outputs": [
    {
     "name": "stdout",
     "output_type": "stream",
     "text": [
      "Get:1 file:/var/nvinfer-runtime-trt-repo-5.0.2-ga-cuda10.0  InRelease\n",
      "Ign:1 file:/var/nvinfer-runtime-trt-repo-5.0.2-ga-cuda10.0  InRelease\n",
      "Get:2 file:/var/nvinfer-runtime-trt-repo-5.0.2-ga-cuda10.0  Release [574 B]\n",
      "Get:2 file:/var/nvinfer-runtime-trt-repo-5.0.2-ga-cuda10.0  Release [574 B]    \n",
      "Get:3 https://developer.download.nvidia.com/compute/cuda/repos/ubuntu1804/x86_64  InRelease [1581 B]\n",
      "Err:3 https://developer.download.nvidia.com/compute/cuda/repos/ubuntu1804/x86_64  InRelease\n",
      "  The following signatures couldn't be verified because the public key is not available: NO_PUBKEY A4B469963BF863CC\n",
      "Hit:5 http://security.ubuntu.com/ubuntu bionic-security InRelease              \n",
      "Hit:6 http://archive.ubuntu.com/ubuntu bionic InRelease                        \n",
      "Hit:7 http://archive.ubuntu.com/ubuntu bionic-updates InRelease         \n",
      "Hit:8 http://archive.ubuntu.com/ubuntu bionic-backports InRelease       \n",
      "Ign:9 https://developer.download.nvidia.com/compute/machine-learning/repos/ubuntu1804/x86_64  InRelease\n",
      "Hit:10 https://developer.download.nvidia.com/compute/machine-learning/repos/ubuntu1804/x86_64  Release\n",
      "Reading package lists... Done\n",
      "W: GPG error: https://developer.download.nvidia.com/compute/cuda/repos/ubuntu1804/x86_64  InRelease: The following signatures couldn't be verified because the public key is not available: NO_PUBKEY A4B469963BF863CC\n",
      "E: The repository 'https://developer.download.nvidia.com/compute/cuda/repos/ubuntu1804/x86_64  InRelease' is no longer signed.\n",
      "N: Updating from such a repository can't be done securely, and is therefore disabled by default.\n",
      "N: See apt-secure(8) manpage for repository creation and user configuration details.\n",
      "E: Could not get lock /var/lib/dpkg/lock-frontend - open (11: Resource temporarily unavailable)\n",
      "E: Unable to acquire the dpkg frontend lock (/var/lib/dpkg/lock-frontend), is another process using it?\n"
     ]
    }
   ],
   "source": [
    "!export DEBIAN_FRONTEND=noninteractive\n",
    "!apt-get update -y\n",
    "!apt-get install git-all -y\n",
    "#!pip install seqeval==0.0.5\n",
    "#!pip install keras==2.0.8\n",
    "#!pip install scipy\n",
    "#!pip install scikit-learn\n",
    "#!pip install tensorflow==1.15\n",
    "\n",
    "#!pip install git+https://www.github.com/keras-team/keras-contrib.git"
   ]
  },
  {
   "cell_type": "code",
   "execution_count": 4,
   "metadata": {},
   "outputs": [
    {
     "name": "stdout",
     "output_type": "stream",
     "text": [
      "Collecting pip\n",
      "\u001b[?25l  Downloading https://files.pythonhosted.org/packages/a4/6d/6463d49a933f547439d6b5b98b46af8742cc03ae83543e4d7688c2420f8b/pip-21.3.1-py3-none-any.whl (1.7MB)\n",
      "\u001b[K     |████████████████████████████████| 1.7MB 9.2MB/s eta 0:00:01\n",
      "\u001b[?25hCollecting setuptools\n",
      "\u001b[?25l  Downloading https://files.pythonhosted.org/packages/b0/3a/88b210db68e56854d0bcf4b38e165e03be377e13907746f825790f3df5bf/setuptools-59.6.0-py3-none-any.whl (952kB)\n",
      "\u001b[K     |████████████████████████████████| 962kB 11.8MB/s eta 0:00:01\n",
      "\u001b[?25hInstalling collected packages: pip, setuptools\n",
      "  Found existing installation: pip 19.1.1\n",
      "    Uninstalling pip-19.1.1:\n",
      "      Successfully uninstalled pip-19.1.1\n",
      "  Found existing installation: setuptools 41.0.1\n",
      "    Uninstalling setuptools-41.0.1:\n",
      "      Successfully uninstalled setuptools-41.0.1\n",
      "Successfully installed pip-21.3.1 setuptools-59.6.0\n",
      "Collecting keras==2.0.9\n",
      "  Using cached Keras-2.0.9-py2.py3-none-any.whl (299 kB)\n",
      "Requirement already satisfied: numpy>=1.9.1 in /usr/local/lib/python3.6/dist-packages (from keras==2.0.9) (1.16.4)\n",
      "Collecting pyyaml\n",
      "  Downloading PyYAML-6.0.1-cp36-cp36m-manylinux_2_17_x86_64.manylinux2014_x86_64.whl (677 kB)\n",
      "     |████████████████████████████████| 677 kB 6.4 MB/s            \n",
      "\u001b[?25hCollecting scipy>=0.14\n",
      "  Using cached scipy-1.5.4-cp36-cp36m-manylinux1_x86_64.whl (25.9 MB)\n",
      "Requirement already satisfied: six>=1.9.0 in /usr/lib/python3/dist-packages (from keras==2.0.9) (1.11.0)\n",
      "Installing collected packages: scipy, pyyaml, keras\n",
      "Successfully installed keras-2.0.9 pyyaml-6.0.1 scipy-1.5.4\n",
      "\u001b[33mWARNING: Running pip as the 'root' user can result in broken permissions and conflicting behaviour with the system package manager. It is recommended to use a virtual environment instead: https://pip.pypa.io/warnings/venv\u001b[0m\n"
     ]
    }
   ],
   "source": [
    "!pip install --upgrade pip setuptools\n",
    "!pip install keras==2.0.9"
   ]
  },
  {
   "cell_type": "code",
   "execution_count": 10,
   "metadata": {},
   "outputs": [
    {
     "name": "stdout",
     "output_type": "stream",
     "text": [
      "Collecting git+https://www.github.com/keras-team/keras-contrib.git\n",
      "  Cloning https://www.github.com/keras-team/keras-contrib.git to /tmp/pip-req-build-fe1knxg0\n",
      "  Running command git clone --filter=blob:none -q https://www.github.com/keras-team/keras-contrib.git /tmp/pip-req-build-fe1knxg0\n",
      "  warning: redirecting to https://github.com/keras-team/keras-contrib.git/\n",
      "  Resolved https://www.github.com/keras-team/keras-contrib.git to commit 3fc5ef709e061416f4bc8a92ca3750c824b5d2b0\n",
      "  Preparing metadata (setup.py) ... \u001b[?25ldone\n",
      "\u001b[?25hRequirement already satisfied: keras in /usr/local/lib/python3.6/dist-packages (from keras-contrib==2.0.8) (2.0.9)\n",
      "Requirement already satisfied: six>=1.9.0 in /usr/lib/python3/dist-packages (from keras->keras-contrib==2.0.8) (1.11.0)\n",
      "Requirement already satisfied: scipy>=0.14 in /usr/local/lib/python3.6/dist-packages (from keras->keras-contrib==2.0.8) (1.5.4)\n",
      "Requirement already satisfied: numpy>=1.9.1 in /usr/local/lib/python3.6/dist-packages (from keras->keras-contrib==2.0.8) (1.16.4)\n",
      "Requirement already satisfied: pyyaml in /usr/local/lib/python3.6/dist-packages (from keras->keras-contrib==2.0.8) (6.0.1)\n",
      "Building wheels for collected packages: keras-contrib\n",
      "  Building wheel for keras-contrib (setup.py) ... \u001b[?25ldone\n",
      "\u001b[?25h  Created wheel for keras-contrib: filename=keras_contrib-2.0.8-py3-none-any.whl size=101267 sha256=731f665a220b9c3e689796ea23df5044d0feee016383976e8de0fe3544c48df2\n",
      "  Stored in directory: /tmp/pip-ephem-wheel-cache-1d01m8qo/wheels/16/87/6e/8e3b73f23fb38163af1c319aa23f14602018b501ecb91430a2\n",
      "Successfully built keras-contrib\n",
      "Installing collected packages: keras-contrib\n",
      "Successfully installed keras-contrib-2.0.8\n",
      "\u001b[33mWARNING: Running pip as the 'root' user can result in broken permissions and conflicting behaviour with the system package manager. It is recommended to use a virtual environment instead: https://pip.pypa.io/warnings/venv\u001b[0m\n"
     ]
    }
   ],
   "source": [
    "!pip install git+https://www.github.com/keras-team/keras-contrib.git"
   ]
  },
  {
   "cell_type": "code",
   "execution_count": 1,
   "metadata": {},
   "outputs": [
    {
     "name": "stderr",
     "output_type": "stream",
     "text": [
      "Using TensorFlow backend.\n"
     ]
    },
    {
     "data": {
      "text/plain": [
       "'2.0.9'"
      ]
     },
     "execution_count": 1,
     "metadata": {},
     "output_type": "execute_result"
    }
   ],
   "source": [
    "import tensorflow as tf\n",
    "tf.__version__\n",
    "import keras\n",
    "keras.__version__"
   ]
  },
  {
   "cell_type": "code",
   "execution_count": 11,
   "metadata": {},
   "outputs": [],
   "source": [
    "import os\n",
    "#tf.compat.v1.disable_v2_behavior()\n",
    "import tensorflow as tf\n",
    "import keras\n",
    "from keras_contrib.layers.normalization.instancenormalization import InstanceNormalization\n",
    "#import tensorflow_hub as hub\n",
    "#domain [MT2PA,PA2MT]\n",
    "#version [run_0,run_1,run_2,run_3,run_4]\n",
    "#component [classifer  dec_sh  dis  enc_ex  enc_sh]\n",
    "root=\"/workdir/Data-Guillermo\"\n",
    "models_root=root+\"/DADL-MT2PA/models/run_0\"\n",
    "def load_model(domain=\"MT2PA\",version=\"run_0\",component=\"classifer\"):\n",
    "  os.path.join(root,\"DADL-\"+domain,\"models\",version,component+\".h5\")\n",
    "  return keras.models.load_model(os.path.join(root,\"DADL-\"+domain,\"models\",version,component+\".h5\"),compile=False,\n",
    "                                                     custom_objects={'InstanceNormalization':tf.keras.layers.GroupNormalization}\n",
    ")\n",
    "\n",
    "def load_model(domain=\"MT2PA\",version=\"run_0\",component=\"classifer\"):\n",
    "  os.path.join(root,\"DADL-\"+domain,\"models\",version,component+\".h5\")\n",
    "  return keras.models.load_model(os.path.join(root,\"DADL-\"+domain,\"models\",version,component+\".h5\"),#compile=False,\n",
    "                                    #custom_objects={'InstanceNormalization':(lambda **args: tf.keras.layers.GroupNormalization(groups=1,axis=-1,center=True, scale=True))}\n",
    "                                    custom_objects={'InstanceNormalization':InstanceNormalization}\n",
    "                                    \n",
    "                                    #custom_objects={'InstanceNormalization':tf.keras.layers.GroupNormalization(axis=2,groups=-1)}\n",
    "                                    #custom_objects={'InstanceNormalization':tf.keras.layers.GroupNormalization}\n",
    ")\n",
    "\n",
    "def load_model_(domain=\"MT2PA\",version=\"run_0\",component=\"classifer\"):\n",
    "  return os.path.join(root,\"DADL-\"+domain,\"models\",version,component+\".h5\")"
   ]
  },
  {
   "cell_type": "code",
   "execution_count": 13,
   "metadata": {},
   "outputs": [
    {
     "name": "stderr",
     "output_type": "stream",
     "text": [
      "W1007 14:42:33.023464 140700017334080 deprecation_wrapper.py:119] From /usr/local/lib/python3.6/dist-packages/keras/backend/tensorflow_backend.py:3603: The name tf.random_normal is deprecated. Please use tf.random.normal instead.\n",
      "\n",
      "W1007 14:42:33.698081 140700017334080 deprecation_wrapper.py:119] From /usr/local/lib/python3.6/dist-packages/keras/backend/tensorflow_backend.py:158: The name tf.get_default_session is deprecated. Please use tf.compat.v1.get_default_session instead.\n",
      "\n",
      "W1007 14:42:33.699380 140700017334080 deprecation_wrapper.py:119] From /usr/local/lib/python3.6/dist-packages/keras/backend/tensorflow_backend.py:163: The name tf.ConfigProto is deprecated. Please use tf.compat.v1.ConfigProto instead.\n",
      "\n",
      "W1007 14:42:33.700576 140700017334080 deprecation_wrapper.py:119] From /usr/local/lib/python3.6/dist-packages/keras/backend/tensorflow_backend.py:168: The name tf.Session is deprecated. Please use tf.compat.v1.Session instead.\n",
      "\n"
     ]
    },
    {
     "name": "stdout",
     "output_type": "stream",
     "text": [
      "__________________________________________________________________________________________________\n",
      "Layer (type)                    Output Shape         Param #     Connected to                     \n",
      "==================================================================================================\n",
      "enc_sh_input_enc_net (InputLaye (None, 128, 128, 20) 0                                            \n",
      "__________________________________________________________________________________________________\n",
      "enc_sh_conv_net_0 (Conv2D)      (None, 128, 128, 16) 15696       enc_sh_input_enc_net[0][0]       \n",
      "__________________________________________________________________________________________________\n",
      "enc_sh_isnt_norm_net_0 (Instanc (None, 128, 128, 16) 2           enc_sh_conv_net_0[0][0]          \n",
      "__________________________________________________________________________________________________\n",
      "enc_sh_relu_net_0 (Activation)  (None, 128, 128, 16) 0           enc_sh_isnt_norm_net_0[0][0]     \n",
      "__________________________________________________________________________________________________\n",
      "enc_sh_conv_net_1 (Conv2D)      (None, 64, 64, 32)   4640        enc_sh_relu_net_0[0][0]          \n",
      "__________________________________________________________________________________________________\n",
      "enc_sh_isnt_norm_net_1 (Instanc (None, 64, 64, 32)   2           enc_sh_conv_net_1[0][0]          \n",
      "__________________________________________________________________________________________________\n",
      "enc_sh_relu_net_1 (Activation)  (None, 64, 64, 32)   0           enc_sh_isnt_norm_net_1[0][0]     \n",
      "__________________________________________________________________________________________________\n",
      "enc_sh_conv_net_2 (Conv2D)      (None, 32, 32, 64)   18496       enc_sh_relu_net_1[0][0]          \n",
      "__________________________________________________________________________________________________\n",
      "enc_sh_isnt_norm_net_2 (Instanc (None, 32, 32, 64)   2           enc_sh_conv_net_2[0][0]          \n",
      "__________________________________________________________________________________________________\n",
      "enc_sh_relu_net_2 (Activation)  (None, 32, 32, 64)   0           enc_sh_isnt_norm_net_2[0][0]     \n",
      "__________________________________________________________________________________________________\n",
      "enc_sh_res1_conv_net_1 (Conv2D) (None, 32, 32, 64)   36928       enc_sh_relu_net_2[0][0]          \n",
      "__________________________________________________________________________________________________\n",
      "enc_sh_res1_isnt_norm_net_1 (In (None, 32, 32, 64)   2           enc_sh_res1_conv_net_1[0][0]     \n",
      "__________________________________________________________________________________________________\n",
      "enc_sh_res1_relu_net_1 (Activat (None, 32, 32, 64)   0           enc_sh_res1_isnt_norm_net_1[0][0]\n",
      "__________________________________________________________________________________________________\n",
      "enc_sh_res2_conv_net_1 (Conv2D) (None, 32, 32, 64)   36928       enc_sh_res1_relu_net_1[0][0]     \n",
      "__________________________________________________________________________________________________\n",
      "enc_sh_res2_isnt_norm_net_1 (In (None, 32, 32, 64)   2           enc_sh_res2_conv_net_1[0][0]     \n",
      "__________________________________________________________________________________________________\n",
      "enc_sh_res2_relu_net_1 (Activat (None, 32, 32, 64)   0           enc_sh_res2_isnt_norm_net_1[0][0]\n",
      "__________________________________________________________________________________________________\n",
      "enc_sh_add_resnet_net1 (Add)    (None, 32, 32, 64)   0           enc_sh_res2_relu_net_1[0][0]     \n",
      "                                                                 enc_sh_relu_net_2[0][0]          \n",
      "__________________________________________________________________________________________________\n",
      "enc_sh_res1_conv_net_2 (Conv2D) (None, 32, 32, 64)   36928       enc_sh_add_resnet_net1[0][0]     \n",
      "__________________________________________________________________________________________________\n",
      "enc_sh_res1_isnt_norm_net_2 (In (None, 32, 32, 64)   2           enc_sh_res1_conv_net_2[0][0]     \n",
      "__________________________________________________________________________________________________\n",
      "enc_sh_res1_relu_net_2 (Activat (None, 32, 32, 64)   0           enc_sh_res1_isnt_norm_net_2[0][0]\n",
      "__________________________________________________________________________________________________\n",
      "enc_sh_res2_conv_net_2 (Conv2D) (None, 32, 32, 64)   36928       enc_sh_res1_relu_net_2[0][0]     \n",
      "__________________________________________________________________________________________________\n",
      "enc_sh_res2_isnt_norm_net_2 (In (None, 32, 32, 64)   2           enc_sh_res2_conv_net_2[0][0]     \n",
      "__________________________________________________________________________________________________\n",
      "enc_sh_res2_relu_net_2 (Activat (None, 32, 32, 64)   0           enc_sh_res2_isnt_norm_net_2[0][0]\n",
      "__________________________________________________________________________________________________\n",
      "enc_sh_add_resnet_net2 (Add)    (None, 32, 32, 64)   0           enc_sh_res2_relu_net_2[0][0]     \n",
      "                                                                 enc_sh_add_resnet_net1[0][0]     \n",
      "__________________________________________________________________________________________________\n",
      "enc_sh_res1_conv_net_3 (Conv2D) (None, 32, 32, 64)   36928       enc_sh_add_resnet_net2[0][0]     \n",
      "__________________________________________________________________________________________________\n",
      "enc_sh_res1_isnt_norm_net_3 (In (None, 32, 32, 64)   2           enc_sh_res1_conv_net_3[0][0]     \n",
      "__________________________________________________________________________________________________\n",
      "enc_sh_res1_relu_net_3 (Activat (None, 32, 32, 64)   0           enc_sh_res1_isnt_norm_net_3[0][0]\n",
      "__________________________________________________________________________________________________\n",
      "enc_sh_res2_conv_net_3 (Conv2D) (None, 32, 32, 64)   36928       enc_sh_res1_relu_net_3[0][0]     \n",
      "__________________________________________________________________________________________________\n",
      "enc_sh_res2_isnt_norm_net_3 (In (None, 32, 32, 64)   2           enc_sh_res2_conv_net_3[0][0]     \n",
      "__________________________________________________________________________________________________\n",
      "enc_sh_res2_relu_net_3 (Activat (None, 32, 32, 64)   0           enc_sh_res2_isnt_norm_net_3[0][0]\n",
      "__________________________________________________________________________________________________\n",
      "enc_sh_add_resnet_net3 (Add)    (None, 32, 32, 64)   0           enc_sh_res2_relu_net_3[0][0]     \n",
      "                                                                 enc_sh_add_resnet_net2[0][0]     \n",
      "__________________________________________________________________________________________________\n",
      "enc_sh_res1_conv_net_4 (Conv2D) (None, 32, 32, 64)   36928       enc_sh_add_resnet_net3[0][0]     \n",
      "__________________________________________________________________________________________________\n",
      "enc_sh_res1_isnt_norm_net_4 (In (None, 32, 32, 64)   2           enc_sh_res1_conv_net_4[0][0]     \n",
      "__________________________________________________________________________________________________\n",
      "enc_sh_res1_relu_net_4 (Activat (None, 32, 32, 64)   0           enc_sh_res1_isnt_norm_net_4[0][0]\n",
      "__________________________________________________________________________________________________\n",
      "enc_sh_res2_conv_net_4 (Conv2D) (None, 32, 32, 64)   36928       enc_sh_res1_relu_net_4[0][0]     \n",
      "__________________________________________________________________________________________________\n",
      "enc_sh_res2_isnt_norm_net_4 (In (None, 32, 32, 64)   2           enc_sh_res2_conv_net_4[0][0]     \n",
      "__________________________________________________________________________________________________\n",
      "enc_sh_res2_relu_net_4 (Activat (None, 32, 32, 64)   0           enc_sh_res2_isnt_norm_net_4[0][0]\n",
      "__________________________________________________________________________________________________\n",
      "enc_sh_add_resnet_net4 (Add)    (None, 32, 32, 64)   0           enc_sh_res2_relu_net_4[0][0]     \n",
      "                                                                 enc_sh_add_resnet_net3[0][0]     \n",
      "__________________________________________________________________________________________________\n",
      "enc_sh_res1_conv_net_5 (Conv2D) (None, 32, 32, 64)   36928       enc_sh_add_resnet_net4[0][0]     \n",
      "__________________________________________________________________________________________________\n",
      "enc_sh_res1_isnt_norm_net_5 (In (None, 32, 32, 64)   2           enc_sh_res1_conv_net_5[0][0]     \n",
      "__________________________________________________________________________________________________\n",
      "enc_sh_res1_relu_net_5 (Activat (None, 32, 32, 64)   0           enc_sh_res1_isnt_norm_net_5[0][0]\n",
      "__________________________________________________________________________________________________\n",
      "enc_sh_res2_conv_net_5 (Conv2D) (None, 32, 32, 64)   36928       enc_sh_res1_relu_net_5[0][0]     \n",
      "__________________________________________________________________________________________________\n",
      "enc_sh_res2_isnt_norm_net_5 (In (None, 32, 32, 64)   2           enc_sh_res2_conv_net_5[0][0]     \n",
      "__________________________________________________________________________________________________\n",
      "enc_sh_res2_relu_net_5 (Activat (None, 32, 32, 64)   0           enc_sh_res2_isnt_norm_net_5[0][0]\n",
      "__________________________________________________________________________________________________\n",
      "enc_sh_add_resnet_net5 (Add)    (None, 32, 32, 64)   0           enc_sh_res2_relu_net_5[0][0]     \n",
      "                                                                 enc_sh_add_resnet_net4[0][0]     \n",
      "__________________________________________________________________________________________________\n",
      "enc_sh_res1_conv_net_6 (Conv2D) (None, 32, 32, 64)   36928       enc_sh_add_resnet_net5[0][0]     \n",
      "__________________________________________________________________________________________________\n",
      "enc_sh_res1_isnt_norm_net_6 (In (None, 32, 32, 64)   2           enc_sh_res1_conv_net_6[0][0]     \n",
      "__________________________________________________________________________________________________\n",
      "enc_sh_res1_relu_net_6 (Activat (None, 32, 32, 64)   0           enc_sh_res1_isnt_norm_net_6[0][0]\n",
      "__________________________________________________________________________________________________\n",
      "enc_sh_res2_conv_net_6 (Conv2D) (None, 32, 32, 64)   36928       enc_sh_res1_relu_net_6[0][0]     \n",
      "__________________________________________________________________________________________________\n",
      "enc_sh_res2_isnt_norm_net_6 (In (None, 32, 32, 64)   2           enc_sh_res2_conv_net_6[0][0]     \n",
      "__________________________________________________________________________________________________\n",
      "enc_sh_res2_relu_net_6 (Activat (None, 32, 32, 64)   0           enc_sh_res2_isnt_norm_net_6[0][0]\n",
      "__________________________________________________________________________________________________\n",
      "enc_sh_add_resnet_net6 (Add)    (None, 32, 32, 64)   0           enc_sh_res2_relu_net_6[0][0]     \n",
      "                                                                 enc_sh_add_resnet_net5[0][0]     \n",
      "==================================================================================================\n",
      "Total params: 481,998\n",
      "Trainable params: 481,998\n",
      "Non-trainable params: 0\n",
      "__________________________________________________________________________________________________\n"
     ]
    },
    {
     "name": "stderr",
     "output_type": "stream",
     "text": [
      "/usr/local/lib/python3.6/dist-packages/keras/models.py:251: UserWarning: No training configuration found in save file: the model was *not* compiled. Compile it manually.\n",
      "  warnings.warn('No training configuration found in save file: '\n"
     ]
    }
   ],
   "source": [
    "load_model(domain=\"MT2PA\",version=\"run_0\",component=\"enc_sh\").summary()"
   ]
  },
  {
   "cell_type": "markdown",
   "metadata": {},
   "source": [
    "# DADOS"
   ]
  },
  {
   "cell_type": "code",
   "execution_count": 12,
   "metadata": {},
   "outputs": [
    {
     "name": "stdout",
     "output_type": "stream",
     "text": [
      "MA_1C_RGB_img_filt_norm_2020_2021_10B-001.npy  test_mask_MA.npy\r\n",
      "MA_1C_ref_2020_2021.npy\r\n"
     ]
    }
   ],
   "source": [
    "!ls /workdir/Data-Guillermo/dataset/MA"
   ]
  },
  {
   "cell_type": "code",
   "execution_count": 3,
   "metadata": {},
   "outputs": [],
   "source": [
    "#root=\"/workdir/Data-Guillermo\"\n",
    "root=\"/workdir/Data-Guillermo/dataset\"\n",
    "import numpy as np\n",
    "import os\n",
    "def load_dataset(dataset=\"MA\",data=\"MA_1C_RGB_img_filt_norm_2020_2021_10B-001.npy\",mask=\"test_mask_MA.npy\"):\n",
    "  return (np.load(os.path.join(root,dataset,data)),np.load(os.path.join(root,dataset,data)))"
   ]
  },
  {
   "cell_type": "code",
   "execution_count": null,
   "metadata": {},
   "outputs": [],
   "source": [
    "dtp=load_dataset()"
   ]
  }
 ],
 "metadata": {
  "kernelspec": {
   "display_name": "Python 3",
   "language": "python",
   "name": "python3"
  },
  "language_info": {
   "codemirror_mode": {
    "name": "ipython",
    "version": 3
   },
   "file_extension": ".py",
   "mimetype": "text/x-python",
   "name": "python",
   "nbconvert_exporter": "python",
   "pygments_lexer": "ipython3",
   "version": "3.6.8"
  }
 },
 "nbformat": 4,
 "nbformat_minor": 4
}
