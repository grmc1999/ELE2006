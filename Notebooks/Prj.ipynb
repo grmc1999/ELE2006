{
 "cells": [
  {
   "cell_type": "code",
   "execution_count": 4,
   "metadata": {},
   "outputs": [
    {
     "name": "stdout",
     "output_type": "stream",
     "text": [
      "Data-Guillermo\t\t\t\t MTDA-ITA\r\n",
      "Data-Guillermo-20240916T235926Z-003.zip  Notebooks\r\n",
      "Data-Guillermo-20240916T235926Z-004.zip\r\n"
     ]
    }
   ],
   "source": [
    "!ls /workdir"
   ]
  },
  {
   "cell_type": "code",
   "execution_count": 9,
   "metadata": {},
   "outputs": [
    {
     "name": "stdout",
     "output_type": "stream",
     "text": [
      "Get:1 file:/var/nvinfer-runtime-trt-repo-5.0.2-ga-cuda10.0  InRelease\n",
      "Ign:1 file:/var/nvinfer-runtime-trt-repo-5.0.2-ga-cuda10.0  InRelease\n",
      "Get:2 file:/var/nvinfer-runtime-trt-repo-5.0.2-ga-cuda10.0  Release [574 B]\n",
      "Get:2 file:/var/nvinfer-runtime-trt-repo-5.0.2-ga-cuda10.0  Release [574 B]    \n",
      "Get:3 https://developer.download.nvidia.com/compute/cuda/repos/ubuntu1804/x86_64  InRelease [1581 B]\n",
      "Err:3 https://developer.download.nvidia.com/compute/cuda/repos/ubuntu1804/x86_64  InRelease\n",
      "  The following signatures couldn't be verified because the public key is not available: NO_PUBKEY A4B469963BF863CC\n",
      "Hit:5 http://security.ubuntu.com/ubuntu bionic-security InRelease              \n",
      "Hit:6 http://archive.ubuntu.com/ubuntu bionic InRelease                        \n",
      "Hit:7 http://archive.ubuntu.com/ubuntu bionic-updates InRelease         \n",
      "Hit:8 http://archive.ubuntu.com/ubuntu bionic-backports InRelease       \n",
      "Ign:9 https://developer.download.nvidia.com/compute/machine-learning/repos/ubuntu1804/x86_64  InRelease\n",
      "Hit:10 https://developer.download.nvidia.com/compute/machine-learning/repos/ubuntu1804/x86_64  Release\n",
      "Reading package lists... Done\n",
      "W: GPG error: https://developer.download.nvidia.com/compute/cuda/repos/ubuntu1804/x86_64  InRelease: The following signatures couldn't be verified because the public key is not available: NO_PUBKEY A4B469963BF863CC\n",
      "E: The repository 'https://developer.download.nvidia.com/compute/cuda/repos/ubuntu1804/x86_64  InRelease' is no longer signed.\n",
      "N: Updating from such a repository can't be done securely, and is therefore disabled by default.\n",
      "N: See apt-secure(8) manpage for repository creation and user configuration details.\n",
      "E: Could not get lock /var/lib/dpkg/lock-frontend - open (11: Resource temporarily unavailable)\n",
      "E: Unable to acquire the dpkg frontend lock (/var/lib/dpkg/lock-frontend), is another process using it?\n"
     ]
    }
   ],
   "source": [
    "!export DEBIAN_FRONTEND=noninteractive\n",
    "!apt-get update -y\n",
    "!apt-get install git-all -y\n",
    "#!pip install seqeval==0.0.5\n",
    "#!pip install keras==2.0.8\n",
    "#!pip install scipy\n",
    "#!pip install scikit-learn\n",
    "#!pip install tensorflow==1.15\n",
    "\n",
    "#!pip install git+https://www.github.com/keras-team/keras-contrib.git"
   ]
  },
  {
   "cell_type": "code",
   "execution_count": 26,
   "metadata": {},
   "outputs": [
    {
     "name": "stdout",
     "output_type": "stream",
     "text": [
      "Collecting einops\n",
      "  Downloading einops-0.4.1-py3-none-any.whl (28 kB)\n",
      "Installing collected packages: einops\n",
      "Successfully installed einops-0.4.1\n",
      "\u001b[33mWARNING: Running pip as the 'root' user can result in broken permissions and conflicting behaviour with the system package manager. It is recommended to use a virtual environment instead: https://pip.pypa.io/warnings/venv\u001b[0m\n"
     ]
    }
   ],
   "source": [
    "#!pip install --upgrade pip setuptools\n",
    "#!pip install keras==2.0.9\n",
    "!pip install einops"
   ]
  },
  {
   "cell_type": "code",
   "execution_count": 10,
   "metadata": {},
   "outputs": [
    {
     "name": "stdout",
     "output_type": "stream",
     "text": [
      "Collecting git+https://www.github.com/keras-team/keras-contrib.git\n",
      "  Cloning https://www.github.com/keras-team/keras-contrib.git to /tmp/pip-req-build-fe1knxg0\n",
      "  Running command git clone --filter=blob:none -q https://www.github.com/keras-team/keras-contrib.git /tmp/pip-req-build-fe1knxg0\n",
      "  warning: redirecting to https://github.com/keras-team/keras-contrib.git/\n",
      "  Resolved https://www.github.com/keras-team/keras-contrib.git to commit 3fc5ef709e061416f4bc8a92ca3750c824b5d2b0\n",
      "  Preparing metadata (setup.py) ... \u001b[?25ldone\n",
      "\u001b[?25hRequirement already satisfied: keras in /usr/local/lib/python3.6/dist-packages (from keras-contrib==2.0.8) (2.0.9)\n",
      "Requirement already satisfied: six>=1.9.0 in /usr/lib/python3/dist-packages (from keras->keras-contrib==2.0.8) (1.11.0)\n",
      "Requirement already satisfied: scipy>=0.14 in /usr/local/lib/python3.6/dist-packages (from keras->keras-contrib==2.0.8) (1.5.4)\n",
      "Requirement already satisfied: numpy>=1.9.1 in /usr/local/lib/python3.6/dist-packages (from keras->keras-contrib==2.0.8) (1.16.4)\n",
      "Requirement already satisfied: pyyaml in /usr/local/lib/python3.6/dist-packages (from keras->keras-contrib==2.0.8) (6.0.1)\n",
      "Building wheels for collected packages: keras-contrib\n",
      "  Building wheel for keras-contrib (setup.py) ... \u001b[?25ldone\n",
      "\u001b[?25h  Created wheel for keras-contrib: filename=keras_contrib-2.0.8-py3-none-any.whl size=101267 sha256=731f665a220b9c3e689796ea23df5044d0feee016383976e8de0fe3544c48df2\n",
      "  Stored in directory: /tmp/pip-ephem-wheel-cache-1d01m8qo/wheels/16/87/6e/8e3b73f23fb38163af1c319aa23f14602018b501ecb91430a2\n",
      "Successfully built keras-contrib\n",
      "Installing collected packages: keras-contrib\n",
      "Successfully installed keras-contrib-2.0.8\n",
      "\u001b[33mWARNING: Running pip as the 'root' user can result in broken permissions and conflicting behaviour with the system package manager. It is recommended to use a virtual environment instead: https://pip.pypa.io/warnings/venv\u001b[0m\n"
     ]
    }
   ],
   "source": [
    "!pip install git+https://www.github.com/keras-team/keras-contrib.git"
   ]
  },
  {
   "cell_type": "code",
   "execution_count": 1,
   "metadata": {},
   "outputs": [
    {
     "name": "stderr",
     "output_type": "stream",
     "text": [
      "Using TensorFlow backend.\n"
     ]
    },
    {
     "data": {
      "text/plain": [
       "'2.0.9'"
      ]
     },
     "execution_count": 1,
     "metadata": {},
     "output_type": "execute_result"
    }
   ],
   "source": [
    "import tensorflow as tf\n",
    "tf.__version__\n",
    "import keras\n",
    "keras.__version__"
   ]
  },
  {
   "cell_type": "code",
   "execution_count": 11,
   "metadata": {},
   "outputs": [],
   "source": [
    "import os\n",
    "#tf.compat.v1.disable_v2_behavior()\n",
    "import tensorflow as tf\n",
    "import keras\n",
    "from keras_contrib.layers.normalization.instancenormalization import InstanceNormalization\n",
    "#import tensorflow_hub as hub\n",
    "#domain [MT2PA,PA2MT]\n",
    "#version [run_0,run_1,run_2,run_3,run_4]\n",
    "#component [classifer  dec_sh  dis  enc_ex  enc_sh]\n",
    "root=\"/workdir/Data-Guillermo\"\n",
    "models_root=root+\"/DADL-MT2PA/models/run_0\"\n",
    "def load_model(domain=\"MT2PA\",version=\"run_0\",component=\"classifer\"):\n",
    "  os.path.join(root,\"DADL-\"+domain,\"models\",version,component+\".h5\")\n",
    "  return keras.models.load_model(os.path.join(root,\"DADL-\"+domain,\"models\",version,component+\".h5\"),compile=False,\n",
    "                                                     custom_objects={'InstanceNormalization':tf.keras.layers.GroupNormalization}\n",
    ")\n",
    "\n",
    "def load_model(domain=\"MT2PA\",version=\"run_0\",component=\"classifer\"):\n",
    "  os.path.join(root,\"DADL-\"+domain,\"models\",version,component+\".h5\")\n",
    "  return keras.models.load_model(os.path.join(root,\"DADL-\"+domain,\"models\",version,component+\".h5\"),#compile=False,\n",
    "                                    #custom_objects={'InstanceNormalization':(lambda **args: tf.keras.layers.GroupNormalization(groups=1,axis=-1,center=True, scale=True))}\n",
    "                                    custom_objects={'InstanceNormalization':InstanceNormalization,\n",
    "                                                    \n",
    "                                                   }\n",
    "                                    \n",
    "                                    #custom_objects={'InstanceNormalization':tf.keras.layers.GroupNormalization(axis=2,groups=-1)}\n",
    "                                    #custom_objects={'InstanceNormalization':tf.keras.layers.GroupNormalization}\n",
    ")\n",
    "\n",
    "def load_model_(domain=\"MT2PA\",version=\"run_0\",component=\"classifer\"):\n",
    "  return os.path.join(root,\"DADL-\"+domain,\"models\",version,component+\".h5\")"
   ]
  },
  {
   "cell_type": "code",
   "execution_count": 72,
   "metadata": {},
   "outputs": [
    {
     "name": "stdout",
     "output_type": "stream",
     "text": [
      "__________________________________________________________________________________________________\n",
      "Layer (type)                    Output Shape         Param #     Connected to                     \n",
      "==================================================================================================\n",
      "enc_sh_input_enc_net (InputLaye (None, 128, 128, 20) 0                                            \n",
      "__________________________________________________________________________________________________\n",
      "enc_sh_conv_net_0 (Conv2D)      (None, 128, 128, 16) 15696       enc_sh_input_enc_net[0][0]       \n",
      "__________________________________________________________________________________________________\n",
      "enc_sh_isnt_norm_net_0 (Instanc (None, 128, 128, 16) 2           enc_sh_conv_net_0[0][0]          \n",
      "__________________________________________________________________________________________________\n",
      "enc_sh_relu_net_0 (Activation)  (None, 128, 128, 16) 0           enc_sh_isnt_norm_net_0[0][0]     \n",
      "__________________________________________________________________________________________________\n",
      "enc_sh_conv_net_1 (Conv2D)      (None, 64, 64, 32)   4640        enc_sh_relu_net_0[0][0]          \n",
      "__________________________________________________________________________________________________\n",
      "enc_sh_isnt_norm_net_1 (Instanc (None, 64, 64, 32)   2           enc_sh_conv_net_1[0][0]          \n",
      "__________________________________________________________________________________________________\n",
      "enc_sh_relu_net_1 (Activation)  (None, 64, 64, 32)   0           enc_sh_isnt_norm_net_1[0][0]     \n",
      "__________________________________________________________________________________________________\n",
      "enc_sh_conv_net_2 (Conv2D)      (None, 32, 32, 64)   18496       enc_sh_relu_net_1[0][0]          \n",
      "__________________________________________________________________________________________________\n",
      "enc_sh_isnt_norm_net_2 (Instanc (None, 32, 32, 64)   2           enc_sh_conv_net_2[0][0]          \n",
      "__________________________________________________________________________________________________\n",
      "enc_sh_relu_net_2 (Activation)  (None, 32, 32, 64)   0           enc_sh_isnt_norm_net_2[0][0]     \n",
      "__________________________________________________________________________________________________\n",
      "enc_sh_res1_conv_net_1 (Conv2D) (None, 32, 32, 64)   36928       enc_sh_relu_net_2[0][0]          \n",
      "__________________________________________________________________________________________________\n",
      "enc_sh_res1_isnt_norm_net_1 (In (None, 32, 32, 64)   2           enc_sh_res1_conv_net_1[0][0]     \n",
      "__________________________________________________________________________________________________\n",
      "enc_sh_res1_relu_net_1 (Activat (None, 32, 32, 64)   0           enc_sh_res1_isnt_norm_net_1[0][0]\n",
      "__________________________________________________________________________________________________\n",
      "enc_sh_res2_conv_net_1 (Conv2D) (None, 32, 32, 64)   36928       enc_sh_res1_relu_net_1[0][0]     \n",
      "__________________________________________________________________________________________________\n",
      "enc_sh_res2_isnt_norm_net_1 (In (None, 32, 32, 64)   2           enc_sh_res2_conv_net_1[0][0]     \n",
      "__________________________________________________________________________________________________\n",
      "enc_sh_res2_relu_net_1 (Activat (None, 32, 32, 64)   0           enc_sh_res2_isnt_norm_net_1[0][0]\n",
      "__________________________________________________________________________________________________\n",
      "enc_sh_add_resnet_net1 (Add)    (None, 32, 32, 64)   0           enc_sh_res2_relu_net_1[0][0]     \n",
      "                                                                 enc_sh_relu_net_2[0][0]          \n",
      "__________________________________________________________________________________________________\n",
      "enc_sh_res1_conv_net_2 (Conv2D) (None, 32, 32, 64)   36928       enc_sh_add_resnet_net1[0][0]     \n",
      "__________________________________________________________________________________________________\n",
      "enc_sh_res1_isnt_norm_net_2 (In (None, 32, 32, 64)   2           enc_sh_res1_conv_net_2[0][0]     \n",
      "__________________________________________________________________________________________________\n",
      "enc_sh_res1_relu_net_2 (Activat (None, 32, 32, 64)   0           enc_sh_res1_isnt_norm_net_2[0][0]\n",
      "__________________________________________________________________________________________________\n",
      "enc_sh_res2_conv_net_2 (Conv2D) (None, 32, 32, 64)   36928       enc_sh_res1_relu_net_2[0][0]     \n",
      "__________________________________________________________________________________________________\n",
      "enc_sh_res2_isnt_norm_net_2 (In (None, 32, 32, 64)   2           enc_sh_res2_conv_net_2[0][0]     \n",
      "__________________________________________________________________________________________________\n",
      "enc_sh_res2_relu_net_2 (Activat (None, 32, 32, 64)   0           enc_sh_res2_isnt_norm_net_2[0][0]\n",
      "__________________________________________________________________________________________________\n",
      "enc_sh_add_resnet_net2 (Add)    (None, 32, 32, 64)   0           enc_sh_res2_relu_net_2[0][0]     \n",
      "                                                                 enc_sh_add_resnet_net1[0][0]     \n",
      "__________________________________________________________________________________________________\n",
      "enc_sh_res1_conv_net_3 (Conv2D) (None, 32, 32, 64)   36928       enc_sh_add_resnet_net2[0][0]     \n",
      "__________________________________________________________________________________________________\n",
      "enc_sh_res1_isnt_norm_net_3 (In (None, 32, 32, 64)   2           enc_sh_res1_conv_net_3[0][0]     \n",
      "__________________________________________________________________________________________________\n",
      "enc_sh_res1_relu_net_3 (Activat (None, 32, 32, 64)   0           enc_sh_res1_isnt_norm_net_3[0][0]\n",
      "__________________________________________________________________________________________________\n",
      "enc_sh_res2_conv_net_3 (Conv2D) (None, 32, 32, 64)   36928       enc_sh_res1_relu_net_3[0][0]     \n",
      "__________________________________________________________________________________________________\n",
      "enc_sh_res2_isnt_norm_net_3 (In (None, 32, 32, 64)   2           enc_sh_res2_conv_net_3[0][0]     \n",
      "__________________________________________________________________________________________________\n",
      "enc_sh_res2_relu_net_3 (Activat (None, 32, 32, 64)   0           enc_sh_res2_isnt_norm_net_3[0][0]\n",
      "__________________________________________________________________________________________________\n",
      "enc_sh_add_resnet_net3 (Add)    (None, 32, 32, 64)   0           enc_sh_res2_relu_net_3[0][0]     \n",
      "                                                                 enc_sh_add_resnet_net2[0][0]     \n",
      "__________________________________________________________________________________________________\n",
      "enc_sh_res1_conv_net_4 (Conv2D) (None, 32, 32, 64)   36928       enc_sh_add_resnet_net3[0][0]     \n",
      "__________________________________________________________________________________________________\n",
      "enc_sh_res1_isnt_norm_net_4 (In (None, 32, 32, 64)   2           enc_sh_res1_conv_net_4[0][0]     \n",
      "__________________________________________________________________________________________________\n",
      "enc_sh_res1_relu_net_4 (Activat (None, 32, 32, 64)   0           enc_sh_res1_isnt_norm_net_4[0][0]\n",
      "__________________________________________________________________________________________________\n",
      "enc_sh_res2_conv_net_4 (Conv2D) (None, 32, 32, 64)   36928       enc_sh_res1_relu_net_4[0][0]     \n",
      "__________________________________________________________________________________________________\n",
      "enc_sh_res2_isnt_norm_net_4 (In (None, 32, 32, 64)   2           enc_sh_res2_conv_net_4[0][0]     \n",
      "__________________________________________________________________________________________________\n",
      "enc_sh_res2_relu_net_4 (Activat (None, 32, 32, 64)   0           enc_sh_res2_isnt_norm_net_4[0][0]\n",
      "__________________________________________________________________________________________________\n",
      "enc_sh_add_resnet_net4 (Add)    (None, 32, 32, 64)   0           enc_sh_res2_relu_net_4[0][0]     \n",
      "                                                                 enc_sh_add_resnet_net3[0][0]     \n",
      "__________________________________________________________________________________________________\n",
      "enc_sh_res1_conv_net_5 (Conv2D) (None, 32, 32, 64)   36928       enc_sh_add_resnet_net4[0][0]     \n",
      "__________________________________________________________________________________________________\n",
      "enc_sh_res1_isnt_norm_net_5 (In (None, 32, 32, 64)   2           enc_sh_res1_conv_net_5[0][0]     \n",
      "__________________________________________________________________________________________________\n",
      "enc_sh_res1_relu_net_5 (Activat (None, 32, 32, 64)   0           enc_sh_res1_isnt_norm_net_5[0][0]\n",
      "__________________________________________________________________________________________________\n",
      "enc_sh_res2_conv_net_5 (Conv2D) (None, 32, 32, 64)   36928       enc_sh_res1_relu_net_5[0][0]     \n",
      "__________________________________________________________________________________________________\n",
      "enc_sh_res2_isnt_norm_net_5 (In (None, 32, 32, 64)   2           enc_sh_res2_conv_net_5[0][0]     \n",
      "__________________________________________________________________________________________________\n",
      "enc_sh_res2_relu_net_5 (Activat (None, 32, 32, 64)   0           enc_sh_res2_isnt_norm_net_5[0][0]\n",
      "__________________________________________________________________________________________________\n",
      "enc_sh_add_resnet_net5 (Add)    (None, 32, 32, 64)   0           enc_sh_res2_relu_net_5[0][0]     \n",
      "                                                                 enc_sh_add_resnet_net4[0][0]     \n",
      "__________________________________________________________________________________________________\n",
      "enc_sh_res1_conv_net_6 (Conv2D) (None, 32, 32, 64)   36928       enc_sh_add_resnet_net5[0][0]     \n",
      "__________________________________________________________________________________________________\n",
      "enc_sh_res1_isnt_norm_net_6 (In (None, 32, 32, 64)   2           enc_sh_res1_conv_net_6[0][0]     \n",
      "__________________________________________________________________________________________________\n",
      "enc_sh_res1_relu_net_6 (Activat (None, 32, 32, 64)   0           enc_sh_res1_isnt_norm_net_6[0][0]\n",
      "__________________________________________________________________________________________________\n",
      "enc_sh_res2_conv_net_6 (Conv2D) (None, 32, 32, 64)   36928       enc_sh_res1_relu_net_6[0][0]     \n",
      "__________________________________________________________________________________________________\n",
      "enc_sh_res2_isnt_norm_net_6 (In (None, 32, 32, 64)   2           enc_sh_res2_conv_net_6[0][0]     \n",
      "__________________________________________________________________________________________________\n",
      "enc_sh_res2_relu_net_6 (Activat (None, 32, 32, 64)   0           enc_sh_res2_isnt_norm_net_6[0][0]\n",
      "__________________________________________________________________________________________________\n",
      "enc_sh_add_resnet_net6 (Add)    (None, 32, 32, 64)   0           enc_sh_res2_relu_net_6[0][0]     \n",
      "                                                                 enc_sh_add_resnet_net5[0][0]     \n",
      "==================================================================================================\n",
      "Total params: 481,998\n",
      "Trainable params: 481,998\n",
      "Non-trainable params: 0\n",
      "__________________________________________________________________________________________________\n"
     ]
    },
    {
     "name": "stderr",
     "output_type": "stream",
     "text": [
      "/usr/local/lib/python3.6/dist-packages/keras/models.py:251: UserWarning: No training configuration found in save file: the model was *not* compiled. Compile it manually.\n",
      "  warnings.warn('No training configuration found in save file: '\n"
     ]
    },
    {
     "ename": "TypeError",
     "evalue": "('Keyword argument not understood:', 'interpolation')",
     "output_type": "error",
     "traceback": [
      "\u001b[0;31m---------------------------------------------------------------------------\u001b[0m",
      "\u001b[0;31mTypeError\u001b[0m                                 Traceback (most recent call last)",
      "\u001b[0;32m<ipython-input-72-9223c1ac6412>\u001b[0m in \u001b[0;36m<module>\u001b[0;34m\u001b[0m\n\u001b[1;32m      1\u001b[0m \u001b[0mmodel\u001b[0m\u001b[0;34m=\u001b[0m\u001b[0mload_model\u001b[0m\u001b[0;34m(\u001b[0m\u001b[0mdomain\u001b[0m\u001b[0;34m=\u001b[0m\u001b[0;34m\"MT2PA\"\u001b[0m\u001b[0;34m,\u001b[0m\u001b[0mversion\u001b[0m\u001b[0;34m=\u001b[0m\u001b[0;34m\"run_0\"\u001b[0m\u001b[0;34m,\u001b[0m\u001b[0mcomponent\u001b[0m\u001b[0;34m=\u001b[0m\u001b[0;34m\"enc_sh\"\u001b[0m\u001b[0;34m)\u001b[0m\u001b[0;34m\u001b[0m\u001b[0;34m\u001b[0m\u001b[0m\n\u001b[1;32m      2\u001b[0m \u001b[0mmodel\u001b[0m\u001b[0;34m.\u001b[0m\u001b[0msummary\u001b[0m\u001b[0;34m(\u001b[0m\u001b[0;34m)\u001b[0m\u001b[0;34m\u001b[0m\u001b[0;34m\u001b[0m\u001b[0m\n\u001b[0;32m----> 3\u001b[0;31m \u001b[0mmodel_dec\u001b[0m\u001b[0;34m=\u001b[0m\u001b[0mload_model\u001b[0m\u001b[0;34m(\u001b[0m\u001b[0mdomain\u001b[0m\u001b[0;34m=\u001b[0m\u001b[0;34m\"MT2PA\"\u001b[0m\u001b[0;34m,\u001b[0m\u001b[0mversion\u001b[0m\u001b[0;34m=\u001b[0m\u001b[0;34m\"run_0\"\u001b[0m\u001b[0;34m,\u001b[0m\u001b[0mcomponent\u001b[0m\u001b[0;34m=\u001b[0m\u001b[0;34m\"dec_sh\"\u001b[0m\u001b[0;34m)\u001b[0m\u001b[0;34m\u001b[0m\u001b[0;34m\u001b[0m\u001b[0m\n\u001b[0m",
      "\u001b[0;32m<ipython-input-11-3682727a58b6>\u001b[0m in \u001b[0;36mload_model\u001b[0;34m(domain, version, component)\u001b[0m\n\u001b[1;32m     20\u001b[0m   return keras.models.load_model(os.path.join(root,\"DADL-\"+domain,\"models\",version,component+\".h5\"),#compile=False,\n\u001b[1;32m     21\u001b[0m                                     \u001b[0;31m#custom_objects={'InstanceNormalization':(lambda **args: tf.keras.layers.GroupNormalization(groups=1,axis=-1,center=True, scale=True))}\u001b[0m\u001b[0;34m\u001b[0m\u001b[0;34m\u001b[0m\u001b[0;34m\u001b[0m\u001b[0m\n\u001b[0;32m---> 22\u001b[0;31m                                     \u001b[0mcustom_objects\u001b[0m\u001b[0;34m=\u001b[0m\u001b[0;34m{\u001b[0m\u001b[0;34m'InstanceNormalization'\u001b[0m\u001b[0;34m:\u001b[0m\u001b[0mInstanceNormalization\u001b[0m\u001b[0;34m}\u001b[0m\u001b[0;34m\u001b[0m\u001b[0;34m\u001b[0m\u001b[0m\n\u001b[0m\u001b[1;32m     23\u001b[0m \u001b[0;34m\u001b[0m\u001b[0m\n\u001b[1;32m     24\u001b[0m                                     \u001b[0;31m#custom_objects={'InstanceNormalization':tf.keras.layers.GroupNormalization(axis=2,groups=-1)}\u001b[0m\u001b[0;34m\u001b[0m\u001b[0;34m\u001b[0m\u001b[0;34m\u001b[0m\u001b[0m\n",
      "\u001b[0;32m/usr/local/lib/python3.6/dist-packages/keras/models.py\u001b[0m in \u001b[0;36mload_model\u001b[0;34m(filepath, custom_objects, compile)\u001b[0m\n\u001b[1;32m    237\u001b[0m             \u001b[0;32mraise\u001b[0m \u001b[0mValueError\u001b[0m\u001b[0;34m(\u001b[0m\u001b[0;34m'No model found in config file.'\u001b[0m\u001b[0;34m)\u001b[0m\u001b[0;34m\u001b[0m\u001b[0;34m\u001b[0m\u001b[0m\n\u001b[1;32m    238\u001b[0m         \u001b[0mmodel_config\u001b[0m \u001b[0;34m=\u001b[0m \u001b[0mjson\u001b[0m\u001b[0;34m.\u001b[0m\u001b[0mloads\u001b[0m\u001b[0;34m(\u001b[0m\u001b[0mmodel_config\u001b[0m\u001b[0;34m.\u001b[0m\u001b[0mdecode\u001b[0m\u001b[0;34m(\u001b[0m\u001b[0;34m'utf-8'\u001b[0m\u001b[0;34m)\u001b[0m\u001b[0;34m)\u001b[0m\u001b[0;34m\u001b[0m\u001b[0;34m\u001b[0m\u001b[0m\n\u001b[0;32m--> 239\u001b[0;31m         \u001b[0mmodel\u001b[0m \u001b[0;34m=\u001b[0m \u001b[0mmodel_from_config\u001b[0m\u001b[0;34m(\u001b[0m\u001b[0mmodel_config\u001b[0m\u001b[0;34m,\u001b[0m \u001b[0mcustom_objects\u001b[0m\u001b[0;34m=\u001b[0m\u001b[0mcustom_objects\u001b[0m\u001b[0;34m)\u001b[0m\u001b[0;34m\u001b[0m\u001b[0;34m\u001b[0m\u001b[0m\n\u001b[0m\u001b[1;32m    240\u001b[0m \u001b[0;34m\u001b[0m\u001b[0m\n\u001b[1;32m    241\u001b[0m         \u001b[0;31m# set weights\u001b[0m\u001b[0;34m\u001b[0m\u001b[0;34m\u001b[0m\u001b[0;34m\u001b[0m\u001b[0m\n",
      "\u001b[0;32m/usr/local/lib/python3.6/dist-packages/keras/models.py\u001b[0m in \u001b[0;36mmodel_from_config\u001b[0;34m(config, custom_objects)\u001b[0m\n\u001b[1;32m    311\u001b[0m                         \u001b[0;34m'Maybe you meant to use '\u001b[0m\u001b[0;34m\u001b[0m\u001b[0;34m\u001b[0m\u001b[0m\n\u001b[1;32m    312\u001b[0m                         '`Sequential.from_config(config)`?')\n\u001b[0;32m--> 313\u001b[0;31m     \u001b[0;32mreturn\u001b[0m \u001b[0mlayer_module\u001b[0m\u001b[0;34m.\u001b[0m\u001b[0mdeserialize\u001b[0m\u001b[0;34m(\u001b[0m\u001b[0mconfig\u001b[0m\u001b[0;34m,\u001b[0m \u001b[0mcustom_objects\u001b[0m\u001b[0;34m=\u001b[0m\u001b[0mcustom_objects\u001b[0m\u001b[0;34m)\u001b[0m\u001b[0;34m\u001b[0m\u001b[0;34m\u001b[0m\u001b[0m\n\u001b[0m\u001b[1;32m    314\u001b[0m \u001b[0;34m\u001b[0m\u001b[0m\n\u001b[1;32m    315\u001b[0m \u001b[0;34m\u001b[0m\u001b[0m\n",
      "\u001b[0;32m/usr/local/lib/python3.6/dist-packages/keras/layers/__init__.py\u001b[0m in \u001b[0;36mdeserialize\u001b[0;34m(config, custom_objects)\u001b[0m\n\u001b[1;32m     53\u001b[0m                                     \u001b[0mmodule_objects\u001b[0m\u001b[0;34m=\u001b[0m\u001b[0mglobs\u001b[0m\u001b[0;34m,\u001b[0m\u001b[0;34m\u001b[0m\u001b[0;34m\u001b[0m\u001b[0m\n\u001b[1;32m     54\u001b[0m                                     \u001b[0mcustom_objects\u001b[0m\u001b[0;34m=\u001b[0m\u001b[0mcustom_objects\u001b[0m\u001b[0;34m,\u001b[0m\u001b[0;34m\u001b[0m\u001b[0;34m\u001b[0m\u001b[0m\n\u001b[0;32m---> 55\u001b[0;31m                                     printable_module_name='layer')\n\u001b[0m",
      "\u001b[0;32m/usr/local/lib/python3.6/dist-packages/keras/utils/generic_utils.py\u001b[0m in \u001b[0;36mdeserialize_keras_object\u001b[0;34m(identifier, module_objects, custom_objects, printable_module_name)\u001b[0m\n\u001b[1;32m    137\u001b[0m                 return cls.from_config(config['config'],\n\u001b[1;32m    138\u001b[0m                                        custom_objects=dict(list(_GLOBAL_CUSTOM_OBJECTS.items()) +\n\u001b[0;32m--> 139\u001b[0;31m                                                            list(custom_objects.items())))\n\u001b[0m\u001b[1;32m    140\u001b[0m             \u001b[0;32mwith\u001b[0m \u001b[0mCustomObjectScope\u001b[0m\u001b[0;34m(\u001b[0m\u001b[0mcustom_objects\u001b[0m\u001b[0;34m)\u001b[0m\u001b[0;34m:\u001b[0m\u001b[0;34m\u001b[0m\u001b[0;34m\u001b[0m\u001b[0m\n\u001b[1;32m    141\u001b[0m                 \u001b[0;32mreturn\u001b[0m \u001b[0mcls\u001b[0m\u001b[0;34m.\u001b[0m\u001b[0mfrom_config\u001b[0m\u001b[0;34m(\u001b[0m\u001b[0mconfig\u001b[0m\u001b[0;34m[\u001b[0m\u001b[0;34m'config'\u001b[0m\u001b[0;34m]\u001b[0m\u001b[0;34m)\u001b[0m\u001b[0;34m\u001b[0m\u001b[0;34m\u001b[0m\u001b[0m\n",
      "\u001b[0;32m/usr/local/lib/python3.6/dist-packages/keras/engine/topology.py\u001b[0m in \u001b[0;36mfrom_config\u001b[0;34m(cls, config, custom_objects)\u001b[0m\n\u001b[1;32m   2488\u001b[0m         \u001b[0;31m# First, we create all layers and enqueue nodes to be processed\u001b[0m\u001b[0;34m\u001b[0m\u001b[0;34m\u001b[0m\u001b[0;34m\u001b[0m\u001b[0m\n\u001b[1;32m   2489\u001b[0m         \u001b[0;32mfor\u001b[0m \u001b[0mlayer_data\u001b[0m \u001b[0;32min\u001b[0m \u001b[0mconfig\u001b[0m\u001b[0;34m[\u001b[0m\u001b[0;34m'layers'\u001b[0m\u001b[0;34m]\u001b[0m\u001b[0;34m:\u001b[0m\u001b[0;34m\u001b[0m\u001b[0;34m\u001b[0m\u001b[0m\n\u001b[0;32m-> 2490\u001b[0;31m             \u001b[0mprocess_layer\u001b[0m\u001b[0;34m(\u001b[0m\u001b[0mlayer_data\u001b[0m\u001b[0;34m)\u001b[0m\u001b[0;34m\u001b[0m\u001b[0;34m\u001b[0m\u001b[0m\n\u001b[0m\u001b[1;32m   2491\u001b[0m         \u001b[0;31m# Then we process nodes in order of layer depth.\u001b[0m\u001b[0;34m\u001b[0m\u001b[0;34m\u001b[0m\u001b[0;34m\u001b[0m\u001b[0m\n\u001b[1;32m   2492\u001b[0m         \u001b[0;31m# Nodes that cannot yet be processed (if the inbound node\u001b[0m\u001b[0;34m\u001b[0m\u001b[0;34m\u001b[0m\u001b[0;34m\u001b[0m\u001b[0m\n",
      "\u001b[0;32m/usr/local/lib/python3.6/dist-packages/keras/engine/topology.py\u001b[0m in \u001b[0;36mprocess_layer\u001b[0;34m(layer_data)\u001b[0m\n\u001b[1;32m   2474\u001b[0m \u001b[0;34m\u001b[0m\u001b[0m\n\u001b[1;32m   2475\u001b[0m             layer = deserialize_layer(layer_data,\n\u001b[0;32m-> 2476\u001b[0;31m                                       custom_objects=custom_objects)\n\u001b[0m\u001b[1;32m   2477\u001b[0m             \u001b[0mcreated_layers\u001b[0m\u001b[0;34m[\u001b[0m\u001b[0mlayer_name\u001b[0m\u001b[0;34m]\u001b[0m \u001b[0;34m=\u001b[0m \u001b[0mlayer\u001b[0m\u001b[0;34m\u001b[0m\u001b[0;34m\u001b[0m\u001b[0m\n\u001b[1;32m   2478\u001b[0m \u001b[0;34m\u001b[0m\u001b[0m\n",
      "\u001b[0;32m/usr/local/lib/python3.6/dist-packages/keras/layers/__init__.py\u001b[0m in \u001b[0;36mdeserialize\u001b[0;34m(config, custom_objects)\u001b[0m\n\u001b[1;32m     53\u001b[0m                                     \u001b[0mmodule_objects\u001b[0m\u001b[0;34m=\u001b[0m\u001b[0mglobs\u001b[0m\u001b[0;34m,\u001b[0m\u001b[0;34m\u001b[0m\u001b[0;34m\u001b[0m\u001b[0m\n\u001b[1;32m     54\u001b[0m                                     \u001b[0mcustom_objects\u001b[0m\u001b[0;34m=\u001b[0m\u001b[0mcustom_objects\u001b[0m\u001b[0;34m,\u001b[0m\u001b[0;34m\u001b[0m\u001b[0;34m\u001b[0m\u001b[0m\n\u001b[0;32m---> 55\u001b[0;31m                                     printable_module_name='layer')\n\u001b[0m",
      "\u001b[0;32m/usr/local/lib/python3.6/dist-packages/keras/utils/generic_utils.py\u001b[0m in \u001b[0;36mdeserialize_keras_object\u001b[0;34m(identifier, module_objects, custom_objects, printable_module_name)\u001b[0m\n\u001b[1;32m    139\u001b[0m                                                            list(custom_objects.items())))\n\u001b[1;32m    140\u001b[0m             \u001b[0;32mwith\u001b[0m \u001b[0mCustomObjectScope\u001b[0m\u001b[0;34m(\u001b[0m\u001b[0mcustom_objects\u001b[0m\u001b[0;34m)\u001b[0m\u001b[0;34m:\u001b[0m\u001b[0;34m\u001b[0m\u001b[0;34m\u001b[0m\u001b[0m\n\u001b[0;32m--> 141\u001b[0;31m                 \u001b[0;32mreturn\u001b[0m \u001b[0mcls\u001b[0m\u001b[0;34m.\u001b[0m\u001b[0mfrom_config\u001b[0m\u001b[0;34m(\u001b[0m\u001b[0mconfig\u001b[0m\u001b[0;34m[\u001b[0m\u001b[0;34m'config'\u001b[0m\u001b[0;34m]\u001b[0m\u001b[0;34m)\u001b[0m\u001b[0;34m\u001b[0m\u001b[0;34m\u001b[0m\u001b[0m\n\u001b[0m\u001b[1;32m    142\u001b[0m         \u001b[0;32melse\u001b[0m\u001b[0;34m:\u001b[0m\u001b[0;34m\u001b[0m\u001b[0;34m\u001b[0m\u001b[0m\n\u001b[1;32m    143\u001b[0m             \u001b[0;31m# Then `cls` may be a function returning a class.\u001b[0m\u001b[0;34m\u001b[0m\u001b[0;34m\u001b[0m\u001b[0;34m\u001b[0m\u001b[0m\n",
      "\u001b[0;32m/usr/local/lib/python3.6/dist-packages/keras/engine/topology.py\u001b[0m in \u001b[0;36mfrom_config\u001b[0;34m(cls, config)\u001b[0m\n\u001b[1;32m   1251\u001b[0m             \u001b[0mA\u001b[0m \u001b[0mlayer\u001b[0m \u001b[0minstance\u001b[0m\u001b[0;34m.\u001b[0m\u001b[0;34m\u001b[0m\u001b[0;34m\u001b[0m\u001b[0m\n\u001b[1;32m   1252\u001b[0m         \"\"\"\n\u001b[0;32m-> 1253\u001b[0;31m         \u001b[0;32mreturn\u001b[0m \u001b[0mcls\u001b[0m\u001b[0;34m(\u001b[0m\u001b[0;34m**\u001b[0m\u001b[0mconfig\u001b[0m\u001b[0;34m)\u001b[0m\u001b[0;34m\u001b[0m\u001b[0;34m\u001b[0m\u001b[0m\n\u001b[0m\u001b[1;32m   1254\u001b[0m \u001b[0;34m\u001b[0m\u001b[0m\n\u001b[1;32m   1255\u001b[0m     \u001b[0;32mdef\u001b[0m \u001b[0mcount_params\u001b[0m\u001b[0;34m(\u001b[0m\u001b[0mself\u001b[0m\u001b[0;34m)\u001b[0m\u001b[0;34m:\u001b[0m\u001b[0;34m\u001b[0m\u001b[0;34m\u001b[0m\u001b[0m\n",
      "\u001b[0;32m/usr/local/lib/python3.6/dist-packages/keras/legacy/interfaces.py\u001b[0m in \u001b[0;36mwrapper\u001b[0;34m(*args, **kwargs)\u001b[0m\n\u001b[1;32m     85\u001b[0m                 warnings.warn('Update your `' + object_name +\n\u001b[1;32m     86\u001b[0m                               '` call to the Keras 2 API: ' + signature, stacklevel=2)\n\u001b[0;32m---> 87\u001b[0;31m             \u001b[0;32mreturn\u001b[0m \u001b[0mfunc\u001b[0m\u001b[0;34m(\u001b[0m\u001b[0;34m*\u001b[0m\u001b[0margs\u001b[0m\u001b[0;34m,\u001b[0m \u001b[0;34m**\u001b[0m\u001b[0mkwargs\u001b[0m\u001b[0;34m)\u001b[0m\u001b[0;34m\u001b[0m\u001b[0;34m\u001b[0m\u001b[0m\n\u001b[0m\u001b[1;32m     88\u001b[0m         \u001b[0mwrapper\u001b[0m\u001b[0;34m.\u001b[0m\u001b[0m_original_function\u001b[0m \u001b[0;34m=\u001b[0m \u001b[0mfunc\u001b[0m\u001b[0;34m\u001b[0m\u001b[0;34m\u001b[0m\u001b[0m\n\u001b[1;32m     89\u001b[0m         \u001b[0;32mreturn\u001b[0m \u001b[0mwrapper\u001b[0m\u001b[0;34m\u001b[0m\u001b[0;34m\u001b[0m\u001b[0m\n",
      "\u001b[0;32m/usr/local/lib/python3.6/dist-packages/keras/layers/convolutional.py\u001b[0m in \u001b[0;36m__init__\u001b[0;34m(self, size, data_format, **kwargs)\u001b[0m\n\u001b[1;32m   1318\u001b[0m     \u001b[0;34m@\u001b[0m\u001b[0minterfaces\u001b[0m\u001b[0;34m.\u001b[0m\u001b[0mlegacy_upsampling2d_support\u001b[0m\u001b[0;34m\u001b[0m\u001b[0;34m\u001b[0m\u001b[0m\n\u001b[1;32m   1319\u001b[0m     \u001b[0;32mdef\u001b[0m \u001b[0m__init__\u001b[0m\u001b[0;34m(\u001b[0m\u001b[0mself\u001b[0m\u001b[0;34m,\u001b[0m \u001b[0msize\u001b[0m\u001b[0;34m=\u001b[0m\u001b[0;34m(\u001b[0m\u001b[0;36m2\u001b[0m\u001b[0;34m,\u001b[0m \u001b[0;36m2\u001b[0m\u001b[0;34m)\u001b[0m\u001b[0;34m,\u001b[0m \u001b[0mdata_format\u001b[0m\u001b[0;34m=\u001b[0m\u001b[0;32mNone\u001b[0m\u001b[0;34m,\u001b[0m \u001b[0;34m**\u001b[0m\u001b[0mkwargs\u001b[0m\u001b[0;34m)\u001b[0m\u001b[0;34m:\u001b[0m\u001b[0;34m\u001b[0m\u001b[0;34m\u001b[0m\u001b[0m\n\u001b[0;32m-> 1320\u001b[0;31m         \u001b[0msuper\u001b[0m\u001b[0;34m(\u001b[0m\u001b[0mUpSampling2D\u001b[0m\u001b[0;34m,\u001b[0m \u001b[0mself\u001b[0m\u001b[0;34m)\u001b[0m\u001b[0;34m.\u001b[0m\u001b[0m__init__\u001b[0m\u001b[0;34m(\u001b[0m\u001b[0;34m**\u001b[0m\u001b[0mkwargs\u001b[0m\u001b[0;34m)\u001b[0m\u001b[0;34m\u001b[0m\u001b[0;34m\u001b[0m\u001b[0m\n\u001b[0m\u001b[1;32m   1321\u001b[0m         \u001b[0mself\u001b[0m\u001b[0;34m.\u001b[0m\u001b[0mdata_format\u001b[0m \u001b[0;34m=\u001b[0m \u001b[0mconv_utils\u001b[0m\u001b[0;34m.\u001b[0m\u001b[0mnormalize_data_format\u001b[0m\u001b[0;34m(\u001b[0m\u001b[0mdata_format\u001b[0m\u001b[0;34m)\u001b[0m\u001b[0;34m\u001b[0m\u001b[0;34m\u001b[0m\u001b[0m\n\u001b[1;32m   1322\u001b[0m         \u001b[0mself\u001b[0m\u001b[0;34m.\u001b[0m\u001b[0msize\u001b[0m \u001b[0;34m=\u001b[0m \u001b[0mconv_utils\u001b[0m\u001b[0;34m.\u001b[0m\u001b[0mnormalize_tuple\u001b[0m\u001b[0;34m(\u001b[0m\u001b[0msize\u001b[0m\u001b[0;34m,\u001b[0m \u001b[0;36m2\u001b[0m\u001b[0;34m,\u001b[0m \u001b[0;34m'size'\u001b[0m\u001b[0;34m)\u001b[0m\u001b[0;34m\u001b[0m\u001b[0;34m\u001b[0m\u001b[0m\n",
      "\u001b[0;32m/usr/local/lib/python3.6/dist-packages/keras/engine/topology.py\u001b[0m in \u001b[0;36m__init__\u001b[0;34m(self, **kwargs)\u001b[0m\n\u001b[1;32m    278\u001b[0m         \u001b[0;32mfor\u001b[0m \u001b[0mkwarg\u001b[0m \u001b[0;32min\u001b[0m \u001b[0mkwargs\u001b[0m\u001b[0;34m:\u001b[0m\u001b[0;34m\u001b[0m\u001b[0;34m\u001b[0m\u001b[0m\n\u001b[1;32m    279\u001b[0m             \u001b[0;32mif\u001b[0m \u001b[0mkwarg\u001b[0m \u001b[0;32mnot\u001b[0m \u001b[0;32min\u001b[0m \u001b[0mallowed_kwargs\u001b[0m\u001b[0;34m:\u001b[0m\u001b[0;34m\u001b[0m\u001b[0;34m\u001b[0m\u001b[0m\n\u001b[0;32m--> 280\u001b[0;31m                 \u001b[0;32mraise\u001b[0m \u001b[0mTypeError\u001b[0m\u001b[0;34m(\u001b[0m\u001b[0;34m'Keyword argument not understood:'\u001b[0m\u001b[0;34m,\u001b[0m \u001b[0mkwarg\u001b[0m\u001b[0;34m)\u001b[0m\u001b[0;34m\u001b[0m\u001b[0;34m\u001b[0m\u001b[0m\n\u001b[0m\u001b[1;32m    281\u001b[0m         \u001b[0mname\u001b[0m \u001b[0;34m=\u001b[0m \u001b[0mkwargs\u001b[0m\u001b[0;34m.\u001b[0m\u001b[0mget\u001b[0m\u001b[0;34m(\u001b[0m\u001b[0;34m'name'\u001b[0m\u001b[0;34m)\u001b[0m\u001b[0;34m\u001b[0m\u001b[0;34m\u001b[0m\u001b[0m\n\u001b[1;32m    282\u001b[0m         \u001b[0;32mif\u001b[0m \u001b[0;32mnot\u001b[0m \u001b[0mname\u001b[0m\u001b[0;34m:\u001b[0m\u001b[0;34m\u001b[0m\u001b[0;34m\u001b[0m\u001b[0m\n",
      "\u001b[0;31mTypeError\u001b[0m: ('Keyword argument not understood:', 'interpolation')"
     ]
    }
   ],
   "source": [
    "model=load_model(domain=\"MT2PA\",version=\"run_0\",component=\"enc_sh\")\n",
    "model.summary()\n",
    "model_dec=load_model(domain=\"MT2PA\",version=\"run_0\",component=\"dec_sh\")"
   ]
  },
  {
   "cell_type": "markdown",
   "metadata": {},
   "source": [
    "# DADOS"
   ]
  },
  {
   "cell_type": "code",
   "execution_count": 12,
   "metadata": {},
   "outputs": [
    {
     "name": "stdout",
     "output_type": "stream",
     "text": [
      "MA_1C_RGB_img_filt_norm_2020_2021_10B-001.npy  test_mask_MA.npy\r\n",
      "MA_1C_ref_2020_2021.npy\r\n"
     ]
    }
   ],
   "source": [
    "!ls /workdir/Data-Guillermo/dataset/MA"
   ]
  },
  {
   "cell_type": "code",
   "execution_count": 3,
   "metadata": {},
   "outputs": [],
   "source": [
    "#root=\"/workdir/Data-Guillermo\"\n",
    "root=\"/workdir/Data-Guillermo/dataset\"\n",
    "import numpy as np\n",
    "import os\n",
    "def load_dataset(dataset=\"MA\",data=\"MA_1C_RGB_img_filt_norm_2020_2021_10B-001.npy\",mask=\"test_mask_MA.npy\"):\n",
    "  return (np.load(os.path.join(root,dataset,data)),np.load(os.path.join(root,dataset,data)))"
   ]
  },
  {
   "cell_type": "code",
   "execution_count": null,
   "metadata": {},
   "outputs": [],
   "source": [
    "dtp=load_dataset()"
   ]
  },
  {
   "cell_type": "code",
   "execution_count": 27,
   "metadata": {},
   "outputs": [],
   "source": [
    "import numpy as np\n",
    "from einops import rearrange\n",
    "import matplotlib.pyplot as plt"
   ]
  },
  {
   "cell_type": "code",
   "execution_count": 73,
   "metadata": {},
   "outputs": [],
   "source": [
    "x_d1=np.random.uniform(0,1,(1,128,128,20))\n",
    "x_d2=np.random.uniform(0,1,(1,128,128,20))\n",
    "z1_sh=model.predict(x_d1)\n",
    "z2_sh=model.predict(x_d2)"
   ]
  },
  {
   "cell_type": "code",
   "execution_count": 93,
   "metadata": {},
   "outputs": [
    {
     "data": {
      "text/plain": [
       "array([[-0.03439812],\n",
       "       [-1.07462874],\n",
       "       [-0.15031252],\n",
       "       [ 1.92098424]])"
      ]
     },
     "execution_count": 93,
     "metadata": {},
     "output_type": "execute_result"
    }
   ],
   "source": [
    "xv=np.random.normal(0,1,(4,1))\n",
    "xv"
   ]
  },
  {
   "cell_type": "code",
   "execution_count": 92,
   "metadata": {},
   "outputs": [
    {
     "data": {
      "text/plain": [
       "array([[ 0.97904833, -0.37261957,  1.01929848, -0.453713  ],\n",
       "       [-0.37261957,  0.14181664, -0.38793853,  0.17268029],\n",
       "       [ 1.01929848, -0.38793853,  1.06120337, -0.47236582],\n",
       "       [-0.453713  ,  0.17268029, -0.47236582,  0.2102608 ]])"
      ]
     },
     "execution_count": 92,
     "metadata": {},
     "output_type": "execute_result"
    }
   ],
   "source": [
    "np.matmul(xv,xv.T)\n",
    "#xv.T\n",
    "\n",
    "class MMD(object):\n",
    "    def __init__(self,kernel,kernel_trick=False):\n",
    "        \"\"\"\n",
    "        kernel: function of x and y to scalar value\n",
    "        kernel_trick: function with x,y input and xx,xy,yy output\n",
    "        \"\"\"\n",
    "        self.kernel_trick=kernel_trick\n",
    "        self.kernel=kernel\n",
    "    def compute(self,x,y):\n",
    "        \"\"\"\n",
    "        x: vector [Data points,data dimension]\n",
    "        y: vector [Data points,data dimension]\n",
    "        \"\"\"\n",
    "        if kernel_trick:\n",
    "            xx,xy,yy=kernel_trick(x,y)\n",
    "        else:\n",
    "            xx=np.array(list(map(lambda x,y: self.kernel(x,y),x,x)))\n",
    "            xy=np.array(list(map(lambda x,y: self.kernel(x,y),x,y)))\n",
    "            yy=np.array(list(map(lambda x,y: self.kernel(x,y),x,x)))\n",
    "        \n",
    "        return np.mean(xx-2*xy+yy)"
   ]
  },
  {
   "cell_type": "code",
   "execution_count": 105,
   "metadata": {},
   "outputs": [
    {
     "name": "stdout",
     "output_type": "stream",
     "text": [
      "(4, 4)\n"
     ]
    }
   ],
   "source": [
    "f=(lambda x:(2*x,x**2))\n",
    "if f:\n",
    "    print(f(2))"
   ]
  },
  {
   "cell_type": "code",
   "execution_count": 84,
   "metadata": {},
   "outputs": [
    {
     "data": {
      "text/plain": [
       "<matplotlib.image.AxesImage at 0x7ff64d23fe10>"
      ]
     },
     "execution_count": 84,
     "metadata": {},
     "output_type": "execute_result"
    },
    {
     "data": {
      "image/png": "[encoded data removed]",
      "text/plain": [
       "<Figure size 1080x1080 with 1 Axes>"
      ]
     },
     "metadata": {
      "needs_background": "light"
     },
     "output_type": "display_data"
    },
    {
     "data": {
      "image/png": "[encoded data removed]",
      "text/plain": [
       "<Figure size 1080x1080 with 1 Axes>"
      ]
     },
     "metadata": {
      "needs_background": "light"
     },
     "output_type": "display_data"
    }
   ],
   "source": [
    "x=np.random.normal(0,5,(1,128,128,20))\n",
    "#x=np.ones((1,128,128,20))\n",
    "z_sh=model.predict(x)\n",
    "\n",
    "plt.figure(figsize=(15,15))\n",
    "plt.imshow(\n",
    "    rearrange(\n",
    "        np.pad(x[0], ((3,3),(3,3),(0,0)), 'constant', constant_values=(0,0)),\n",
    "        #x[0] ,\n",
    "        'b c (d1 d2) -> (d1 b) (d2 c)',d1=4,d2=5\n",
    "    )\n",
    ")\n",
    "\n",
    "plt.figure(figsize=(15,15))\n",
    "plt.imshow(\n",
    "    rearrange(\n",
    "        np.pad(z_sh[0], ((3,3),(3,3),(0,0)), 'constant', constant_values=(0,0)),\n",
    "        #z_sh[0] ,\n",
    "        'b c (d1 d2) -> (d1 b) (d2 c)',d1=8,d2=8))"
   ]
  }
 ],
 "metadata": {
  "kernelspec": {
   "display_name": "Python 3",
   "language": "python",
   "name": "python3"
  },
  "language_info": {
   "codemirror_mode": {
    "name": "ipython",
    "version": 3
   },
   "file_extension": ".py",
   "mimetype": "text/x-python",
   "name": "python",
   "nbconvert_exporter": "python",
   "pygments_lexer": "ipython3",
   "version": "3.6.8"
  }
 },
 "nbformat": 4,
 "nbformat_minor": 4
}
